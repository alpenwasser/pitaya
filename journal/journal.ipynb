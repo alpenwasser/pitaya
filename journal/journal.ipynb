{
 "cells": [
  {
   "cell_type": "markdown",
   "metadata": {
    "deletable": true,
    "editable": true
   },
   "source": [
    "__Date:__ 02-03-2017  \n",
    "__Authors:__ Noah\n",
    "    \n",
    "The FHNW IME has a nice Linux infrastructure. Since it makes all the necessairy environments to work with HDL and associated tools very easy we are going to use this environment instead of setting up our own.\n",
    "To remotely access the systems, SSH and VNC can be used which works awesomely well!\n",
    "\n",
    "To access the IME servers via SSH, one has to be in the FHNW networks (WLAN/LAN/VPN) and execute the following set of commands:\n",
    "\n",
    "    $ ssh <user>@wi18as33032.adm.ds.fhnw.ch\n",
    "$ <passwd>\n",
    "    \n",
    "with <user> and <passwd> being your FHNW user credentials.\n",
    "\n",
    "Now a new VNC session can be started. Always _reuse_ existing sessions or close them if not needed anymore to not spam the IME servers.\n",
    "Existing sessions and general options and howtos can be listed with the `vncserver` alias:\n",
    "\n",
    "    <user>@ime_servers $ vncserver\n",
    "    \n",
    "The help outputs are very nice and should be self explanatory, but a new session can be opened with the command\n",
    "\n",
    "    vncserver -new -geometry <width>x<height>\n",
    "    \n",
    "This command will tell you a <port> which has to be remembered. The `vncserver` command always lists ports for open sessions. In your VNC client the IME servername and port have to be entered.\n",
    "As a VNC viewer TigerVNC can be used comfortably and is available and working for all OSes.\n",
    "The first time you open a VNC session you will be prompted to choose a <vnc password>. This is your password when you login to VNC. Not your regular FHNW password!\n",
    "\n",
    "    wi18as33032.adm.ds.fhnw.ch:<port>\n",
    "    <vnc password>\n",
    "    \n",
    "Have fun with tools!"
   ]
  },
  {
   "cell_type": "markdown",
   "metadata": {
    "deletable": true,
    "editable": true
   },
   "source": [
    "---\n",
    "__Date:__ 08-03-2017  \n",
    "__Authors:__ Raphael & Noah\n",
    "\n",
    "We started working throgh the code and simulink models of the previous group.\n",
    "This has worked out okay up until the point where the final filter steals 10% of the amplitude.\n",
    "\n",
    "General tooling:\n",
    "* `msh 2016_HS_P5_P6_FESP fpga` to start a shell with all tools and licenses enabled\n",
    "* `sysgen` to start matlab/simulink with the Xilinx systems generator enabled\n",
    "*\n",
    "\n",
    "General filestructure:\n",
    "* design_sw/Simulation/Simulink_FPGA/Filterkette/ for all the FPGA simulations and generator simulink models\n",
    "    * Filterkette.m to launch sim and create necessary vars\n",
    "    * Filterketten.mdl to see simulink model where signals can be seen with a scope\n",
    "* design_sw/Simulation/Simulink_Filterdesign/ all the filter simulations\n",
    "    * Dezimation_V2_m.m to launch general filter simulation with parts convoluted back\n",
    "    \n",
    "Simulation of the Filterketten works well but on the last filter a good 10% of amplitude is lost:\n",
    "\n",
    "![](images/sim_filter_chain_amplitudes_after_each_chain.png \"Filterkette Amplitudes\")\n",
    "\n",
    "Checking the frequency response of the H51 filter (last stage) we see that we lose 1dB => 0.89:\n",
    "\n",
    "![](images/H51_filter_125MHz.png \"H51 Frequency Response at 125MHz\")\n",
    "\n",
    "The above picture depicts the frequency response of the H51 filter. However, the plot is not normalized to the sampling frequency, but is instead plotted up to half the system frequency, which amounts to 62.5 MHz. Since the filter chain before the H51 filter has a decimation ratio of 125 in this example (with 625 being the global decimation ratio, and H51 being responsible for one fifth of that), we should scale the horizontal axis accordingly to a maximum value of 500 kHz (125 MHz / 125 / 2). But because we are lazy, we will instead just scale our values as needed so that we can read the correct values off the incorrectly scaled plot.\n",
    "\n",
    "The input signal has a frequency of 1 kHz, which is 1/500th of 500 kHz. So, on the plot which is scaled to 62.5 MHz, the value corresponding to our input frequency should be at 1/500th of 62.5 MHz, which comes to 125 kHz. The below picture is the small segment of the above plot around that frequency.\n",
    "\n",
    "![](images/H51_filter_125kHz.png \"H51 Frequency Response at 125kHz\")\n",
    "\n",
    "As can be seen, the frequency response has an attenuation of 1 dB at this frequency, which is quite accurately 0.89. We therefore conclude that this is the reason why the H51 filter causes roughly 10% signal amplitude loss.\n",
    "\n",
    "The `red_pitaya_top.sv` file resides in `design_sw/RedPitaya-master/fpga/prj/v0.94/project/redpitaya.srcs/sources_1/imports/fpga/prj/v0.94/rtl`. Completely broken. Note to self: Check out red pitaya project from scratch and implement own stuff!\n",
    "\n",
    "After generating the bitstream everything is in the Directory `design_sw/RedPitaya-master/fpga/prj/v0.94/project/redpitaya.runs/impl_1`\n",
    "\n",
    "`ssh root@10.84.130.54` to log onto the Red Pitaya\n",
    "`rw` to mount read/write.\n",
    "`scp` to `/opt/redpitaya/fpga`\n",
    "`cat` of the bitstream to `/dev/xdevcfg`"
   ]
  },
  {
   "cell_type": "markdown",
   "metadata": {
    "collapsed": true,
    "deletable": true,
    "editable": true
   },
   "source": [
    "---\n",
    "__Date:__ 20-03-2017  \n",
    "__Authors:__ Noah\n",
    "    \n",
    "Today I wrote the disposition for the report. It should be a good base on how to structure the report in it's core.\n",
    "\n",
    "Furthermore I started crawling Red Pitaya docs.\n",
    "It is really hard to find some good info or real docs. All there is is source code on github which is decently commented but that's all.\n",
    "I would really appreciate some guide or tutorial on how to interface with the FPGA properly.\n",
    "\n",
    "The upside of the research is that all code is open source and the devs seem to be very active on github and responsive to issues opened on said platform.\n",
    "\n",
    "There is gereral information on the board on the [Red Pitaya Wiki](https://wiki.redpitaya.com/index.php?title=Main_Page) which seems to contain nothing but that one page. The article seems entirely outdated and lacking information.\n",
    "The same goes for a [forums post](https://wiki.redpitaya.com/index.php?title=Main_Page) I found that describes partly how to interface the data path. It seems outdated.\n",
    "Same goes for this [article](http://wiki.echopen.org/index.php/How_To_Program_the_FPGA_on_Red_Pitaya) that seems outdated but still contains valid information that could be of use.\n",
    "\n",
    "Then there is some more modern [readthedocs](http://redpitaya.readthedocs.io/en/latest/) from the guys working on Red Pitaya at the moment. It seems informative but still lacks some key points.\n",
    "\n",
    "I have opened an [issue](https://github.com/RedPitaya/RedPitaya/issues/107) on github to get more information on the state of the framework from the devs.\n",
    "There appears to be a major revamp of the entire structure. The new `mercury` branch appears to be the future but is apparently still unstable.\n",
    "I personally would rather work with partly unstable and fixable code than unmaintained old code that can't be fixed anyways wich seems to be the case for the master branch.\n",
    "\n",
    "Let's hope the dev that is most busy working on the Red Pitaya project atm responds again soon and we get some more answers. Otherwise this is not gonna be fun I fear.\n",
    "\n",
    "What's more is that we probably do not get around learning a bit of Verilog since the entire codebase is written in it. This should be doable using analogies to VHDL.\n",
    "\n",
    "The brightest spot today was when I learned that the Red Pitaya team uses Jupyter to do testing and interfacing the Red Pitaya. Awesome!"
   ]
  },
  {
   "cell_type": "markdown",
   "metadata": {},
   "source": [
    "---\n",
    "__Date:__ 21-03-2017  \n",
    "__Authors:__ Noah\n",
    "\n",
    "Today I found out about an alternative SDK called [Koheron](https://www.koheron.com/blog/2016/10/03/decimator-cic-filter.html).\n",
    "It seems promising and also has examples to build upon. It has to be evaluated to estimate if it is worth a shot!\n",
    "\n",
    "I also dug into filter design with Python, just for fun. I found this [gem](http://old.myhdl.org/doku.php/projects:gcicexample) which appears to be an implementation of CIC filters in myHDL, a Python HDL framework which transpiles to VHDL/Verilog.\n",
    "This article shows with numbers at the end how much cells a CIC filter uses for what order. They affirm what was suspected: CIC filters are awesome!\n",
    "\n",
    "I also dug up the [Xilinx CIC Compiler](https://www.xilinx.com/support/documentation/ip_documentation/cic_compiler/v4_0/pg140-cic-compiler.pdf). It doesn't support filter design as far as I understand but it supports implementing t optimally tailored to the Xilinx hardware used with the ability to explicitely specify what elements on the FPGA to use if there is choice.\n",
    "\n",
    "I also started reading on CIC filters today and they seem to be the real deal. They can decimate very effectively with just a few blocks on the FPGA. Also, Matlab seems to have some CIC filter blocks. How they are to be used is still a mystery to be solved ... Thanks usefull Matlab docs \\s."
   ]
  }
 ],
 "metadata": {
  "kernelspec": {
   "display_name": "Python 3",
   "language": "python",
   "name": "python3"
  },
  "language_info": {
   "codemirror_mode": {
    "name": "ipython",
    "version": 3
   },
   "file_extension": ".py",
   "mimetype": "text/x-python",
   "name": "python",
   "nbconvert_exporter": "python",
   "pygments_lexer": "ipython3",
   "version": "3.5.2"
  },
  "toc": {
   "nav_menu": {
    "height": "12px",
    "width": "252px"
   },
   "navigate_menu": true,
   "number_sections": true,
   "sideBar": true,
   "threshold": 4,
   "toc_cell": false,
   "toc_section_display": "block",
   "toc_window_display": false
  }
 },
 "nbformat": 4,
 "nbformat_minor": 0
}
